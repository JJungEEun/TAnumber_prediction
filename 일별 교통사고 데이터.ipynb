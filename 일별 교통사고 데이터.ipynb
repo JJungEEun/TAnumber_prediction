{
 "cells": [
  {
   "cell_type": "code",
   "execution_count": 2,
   "metadata": {},
   "outputs": [
    {
     "data": {
      "text/html": [
       "<div>\n",
       "<style scoped>\n",
       "    .dataframe tbody tr th:only-of-type {\n",
       "        vertical-align: middle;\n",
       "    }\n",
       "\n",
       "    .dataframe tbody tr th {\n",
       "        vertical-align: top;\n",
       "    }\n",
       "\n",
       "    .dataframe thead th {\n",
       "        text-align: right;\n",
       "    }\n",
       "</style>\n",
       "<table border=\"1\" class=\"dataframe\">\n",
       "  <thead>\n",
       "    <tr style=\"text-align: right;\">\n",
       "      <th></th>\n",
       "      <th>발생일</th>\n",
       "      <th>발생시간</th>\n",
       "      <th>발생지_시도</th>\n",
       "      <th>발생지_시군구</th>\n",
       "      <th>법정동명</th>\n",
       "      <th>사고건수</th>\n",
       "      <th>사망자수</th>\n",
       "      <th>중상자수</th>\n",
       "      <th>경상자수</th>\n",
       "      <th>부상신고자수</th>\n",
       "    </tr>\n",
       "  </thead>\n",
       "  <tbody>\n",
       "    <tr>\n",
       "      <th>0</th>\n",
       "      <td>2017-01-01</td>\n",
       "      <td>0</td>\n",
       "      <td>서울</td>\n",
       "      <td>강북구</td>\n",
       "      <td>미아동</td>\n",
       "      <td>1</td>\n",
       "      <td>0</td>\n",
       "      <td>1</td>\n",
       "      <td>6</td>\n",
       "      <td>0</td>\n",
       "    </tr>\n",
       "    <tr>\n",
       "      <th>1</th>\n",
       "      <td>2017-01-01</td>\n",
       "      <td>0</td>\n",
       "      <td>서울</td>\n",
       "      <td>노원구</td>\n",
       "      <td>상계동</td>\n",
       "      <td>1</td>\n",
       "      <td>0</td>\n",
       "      <td>0</td>\n",
       "      <td>1</td>\n",
       "      <td>0</td>\n",
       "    </tr>\n",
       "    <tr>\n",
       "      <th>2</th>\n",
       "      <td>2017-01-01</td>\n",
       "      <td>0</td>\n",
       "      <td>서울</td>\n",
       "      <td>동작구</td>\n",
       "      <td>상도동</td>\n",
       "      <td>1</td>\n",
       "      <td>0</td>\n",
       "      <td>0</td>\n",
       "      <td>1</td>\n",
       "      <td>0</td>\n",
       "    </tr>\n",
       "    <tr>\n",
       "      <th>3</th>\n",
       "      <td>2017-01-01</td>\n",
       "      <td>0</td>\n",
       "      <td>서울</td>\n",
       "      <td>서초구</td>\n",
       "      <td>서초동</td>\n",
       "      <td>1</td>\n",
       "      <td>0</td>\n",
       "      <td>0</td>\n",
       "      <td>1</td>\n",
       "      <td>0</td>\n",
       "    </tr>\n",
       "    <tr>\n",
       "      <th>4</th>\n",
       "      <td>2017-01-01</td>\n",
       "      <td>0</td>\n",
       "      <td>서울</td>\n",
       "      <td>송파구</td>\n",
       "      <td>잠실동</td>\n",
       "      <td>1</td>\n",
       "      <td>0</td>\n",
       "      <td>0</td>\n",
       "      <td>1</td>\n",
       "      <td>0</td>\n",
       "    </tr>\n",
       "  </tbody>\n",
       "</table>\n",
       "</div>"
      ],
      "text/plain": [
       "          발생일  발생시간 발생지_시도 발생지_시군구 법정동명  사고건수  사망자수  중상자수  경상자수  부상신고자수\n",
       "0  2017-01-01     0     서울     강북구  미아동     1     0     1     6       0\n",
       "1  2017-01-01     0     서울     노원구  상계동     1     0     0     1       0\n",
       "2  2017-01-01     0     서울     동작구  상도동     1     0     0     1       0\n",
       "3  2017-01-01     0     서울     서초구  서초동     1     0     0     1       0\n",
       "4  2017-01-01     0     서울     송파구  잠실동     1     0     0     1       0"
      ]
     },
     "execution_count": 2,
     "metadata": {},
     "output_type": "execute_result"
    }
   ],
   "source": [
    "import pandas as pd\n",
    "\n",
    "ta = pd.read_csv('도로교통공단_서울시 일별 시간별 교통사고 현황_20191231.csv', encoding = 'cp949')\n",
    "ta.head()"
   ]
  },
  {
   "cell_type": "code",
   "execution_count": 51,
   "metadata": {},
   "outputs": [],
   "source": [
    "ta['발생지_시군구'].unique()\n",
    "label = ['강북구', '노원구', '동작구', '서초구', '송파구', '양천구', '용산구', '중랑구', '강남구',\n",
    "       '강동구', '강서구', '동대문구', '종로구', '금천구', '영등포구', '도봉구', '광진구', '중구',\n",
    "       '관악구', '구로구', '마포구', '은평구', '서대문구', '성동구', '성북구']"
   ]
  },
  {
   "cell_type": "code",
   "execution_count": 3,
   "metadata": {},
   "outputs": [
    {
     "data": {
      "text/plain": [
       "array(['미아동', '상계동', '상도동', '서초동', '잠실동', '신정동', '한남동', '면목동', '송파동',\n",
       "       '용산동6가', '상봉동', '논현동', '길동', '화곡동', '전농동', '가락동', '문정동', '역삼동',\n",
       "       '용두동', '이태원동', '돈의동', '독산동', '반포동', '당산동3가', '행촌동', '외발산동', '흑석동',\n",
       "       '서빙고동', '수유동', '쌍문동', '자양동', '중림동', '신림동', '구로동', '신길동', '노량진동',\n",
       "       '장안동', '가산동', '공릉동', '답십리동', '명륜4가', '마곡동', '방화동', '회기동', '서교동',\n",
       "       '불광동', '신사동', '신내동', '둔촌동', '군자동', '성산동', '이촌동', '공항동', '시흥동',\n",
       "       '동작동', '개포동', '영등포동1가', '한강로2가', '천호동', '대림동', '암사동', '갈현동', '화양동',\n",
       "       '망원동', '수서동', '아현동', '예장동', '봉천동', '양재동', '대치동', '미근동', '잠원동',\n",
       "       '소공동', '염창동', '도봉동', '금호동3가', '월계동', '휘경동', '대방동', '양평동2가',\n",
       "       '동선동3가', '정릉동', '봉래동1가', '구의동', '북가좌동', '석관동', '녹번동', '종로6가',\n",
       "       '등촌동', '오류동', '염곡동', '방이동', '청담동', '창동', '구수동', '번동', '내발산동',\n",
       "       '온수동', '오금동', '양평동3가', '중계동', '공덕동', '행당동', '종로1가', '중곡동', '도화동',\n",
       "       '가리봉동', '제기동', '한강로3가', '방학동', '합정동', '영등포동6가', '망우동', '도곡동',\n",
       "       '압구정동', '여의도동', '응봉동', '석촌동', '하계동', '연희동', '성수동1가', '목동', '홍제동',\n",
       "       '청량리동', '삼전동', '신월동', '필운동', '남대문로4가', '종로4가', '신도림동', '양평동1가',\n",
       "       '영등포동7가', '장충동2가', '염리동', '마포동', '장지동', '종로5가', '성내동', '충무로2가',\n",
       "       '당산동', '하월곡동', '신영동', '창신동', '한강로1가', '사당동', '공평동', '충무로1가', '거여동',\n",
       "       '역촌동', '상암동', '종암동', '회현동2가', '영등포동2가', '숭인동', '북아현동', '응암동',\n",
       "       '강일동', '이문동', '신대방동', '풍납동', '통의동', '돈암동', '장충동1가', '신천동', '개화동',\n",
       "       '종로2가', '가양동', '당산동6가', '창천동', '보문동4가', '을지로6가', '창전동', '개봉동',\n",
       "       '상왕십리동', '송정동', '장위동', '진관동', '신수동', '상일동', '영등포동8가', '문래동3가',\n",
       "       '신설동', '묵동', '봉래동2가', '방배동', '금호동4가', '연남동', '세곡동', '대현동', '남가좌동',\n",
       "       '삼성동', '상수동', '금호동2가', '신문로2가', '양평동5가', '신당동', '노고산동', '대조동',\n",
       "       '고덕동', '관수동', '양평동6가', '체부동', '성수동2가', '남현동', '양화동', '중동', '증산동',\n",
       "       '동교동', '본동', '마장동', '자곡동', '을지로1가', '상도1동', '홍은동', '대신동', '순화동',\n",
       "       '명일동', '광희동2가', '중화동', '동선동1가', '삼선동4가', '종로3가', '황학동', '당산동1가',\n",
       "       '효창동', '사근동', '상월곡동', '양평동', '충무로4가', '당산동4가', '서소문동', '원효로4가',\n",
       "       '원지동', '용답동', '일원동', '안국동', '연건동', '영등포동', '원효로1가', '양평동4가', '고척동',\n",
       "       '영등포동5가', '수색동', '홍지동', '신공덕동', '마천동', '신문로1가', '낙원동', '광장동',\n",
       "       '문래동5가', '명륜3가', '동선동4가', '회현동1가', '우면동', '용산동2가', '사직동', '갈월동',\n",
       "       '필동2가', '옥수동', '도림동', '천왕동', '동소문동2가', '태평로2가', '보문동7가', '태평로1가',\n",
       "       '누하동', '청진동', '남영동', '동소문동1가', '오장동', '남창동', '성북동', '세종로', '원효로3가',\n",
       "       '남대문로2가', '삼선동5가', '보광동', '혜화동', '내곡동', '북창동', '수하동', '청파동3가',\n",
       "       '남대문로5가', '현저동', '수송동', '명동1가', '길음동', '동소문동3가', '장교동', '당주동',\n",
       "       '도선동', '주교동', '안암동5가', '안암동1가', '궁동', '충정로2가', '명륜2가', '충정로3가',\n",
       "       '원효로2가', '당산동5가', '원남동', '당산동2가', '능동', '보문동2가', '신촌동', '서린동',\n",
       "       '남대문로1가', '영천동', '율현동', '충무로5가', '후암동', '권농동', '을지로7가', '동자동',\n",
       "       '정동', '금호동1가', '삼선동1가', '충정로1가', '을지로5가', '하왕십리동', '만리동1가', '충신동',\n",
       "       '남산동2가', '보문동1가', '삼선동3가', '청파동1가', '성북동1가', '대흥동', '문래동6가',\n",
       "       '명동2가', '명륜1가', '동선동5가', '우이동', '영등포동3가', '흥인동', '을지로2가', '효제동',\n",
       "       '다동', '익선동', '문래동1가', '을지로4가', '묵정동', '동선동2가', '초동', '삼청동', '평동',\n",
       "       '남산동1가', '와룡동', '소격동', '수표동', '문래동2가', '천연동', '쌍림동', '안암동3가',\n",
       "       '주성동', '회현동3가', '하중동', '청파동2가', '용산동3가', '합동', '의주로1가', '영등포동4가',\n",
       "       '옥인동', '내자동', '계동', '동소문동4가', '안암동4가', '동소문동5가', '홍익동', '구산동',\n",
       "       '신원동', '신계동', '문래동4가', '을지로3가', '삼선동2가', '교남동', '용강동', '보문동5가',\n",
       "       '무악동', '연지동', '교북동', '적선동', '인의동', nan, '냉천동', '신창동', '통인동',\n",
       "       '동빙고동', '옥천동', '예지동', '도렴동', '항동', '남대문로3가', '용산동1가', '토정동', '방산동',\n",
       "       '만리동2가', '문배동', '동숭동', '평창동', '광희동1가', '남산동3가', '궁정동', '구기동',\n",
       "       '장사동', '관철동', '보문동3가', '용문동', '안암동2가', '청암동', '동소문동6가', '서계동',\n",
       "       '용산동5가', '청운동', '저동1가', '부암동', '저동2가', '인사동', '경운동', '무학동', '필동3가',\n",
       "       '원서동', '팔판동', '의주로2가', '보문동6가', '봉익동', '운니동', '창성동', '관훈동', '산천동',\n",
       "       '오곡동', '견지동', '용산동4가', '예관동', '신교동', '송현동', '필동1가', '사간동', '중학동',\n",
       "       '동소문동7가', '주자동', '충무로3가', '입정동', '남학동', '이화동', '현석동', '봉원동', '묘동',\n",
       "       '산림동', '삼각동', '훈정동', '누상동', '인현동1가', '인현동2가', '무교동', '도원동', '당인동',\n",
       "       '재동', '내수동', '효자동', '화동', '과해동', '송월동', '가회동', '오쇠동'], dtype=object)"
      ]
     },
     "execution_count": 3,
     "metadata": {},
     "output_type": "execute_result"
    }
   ],
   "source": [
    "ta['법정동명'].unique()"
   ]
  },
  {
   "cell_type": "code",
   "execution_count": 4,
   "metadata": {},
   "outputs": [],
   "source": [
    "ta['부상자수'] = ta['중상자수'] + ta['경상자수'] + ta['부상신고자수']"
   ]
  },
  {
   "cell_type": "code",
   "execution_count": 9,
   "metadata": {},
   "outputs": [],
   "source": [
    "df = ta.groupby(['발생지_시군구'])['사고건수'].sum()"
   ]
  },
  {
   "cell_type": "code",
   "execution_count": 96,
   "metadata": {},
   "outputs": [
    {
     "data": {
      "text/plain": [
       "강북구    10650\n",
       "노원구     4203\n",
       "동작구     3695\n",
       "서초구     4915\n",
       "송파구     3914\n",
       "Name: 사고건수, dtype: int64"
      ]
     },
     "execution_count": 96,
     "metadata": {},
     "output_type": "execute_result"
    }
   ],
   "source": [
    "df.head()"
   ]
  },
  {
   "cell_type": "code",
   "execution_count": 71,
   "metadata": {},
   "outputs": [],
   "source": [
    "import matplotlib as mpl\n",
    "import matplotlib.pylab as plt\n",
    "import matplotlib.font_manager as fm\n",
    "from matplotlib import rc"
   ]
  },
  {
   "cell_type": "code",
   "execution_count": 100,
   "metadata": {},
   "outputs": [
    {
     "data": {
      "text/plain": [
       "Text(0.5, 1.0, '지역구별 사고 건수')"
      ]
     },
     "execution_count": 100,
     "metadata": {},
     "output_type": "execute_result"
    },
    {
     "data": {
      "image/png": "[encoded data removed]",
      "text/plain": [
       "<Figure size 1440x576 with 1 Axes>"
      ]
     },
     "metadata": {
      "needs_background": "light"
     },
     "output_type": "display_data"
    }
   ],
   "source": [
    "\n",
    "font_path = 'C:/Users/user/Downloads/MaruBuri-Regular.ttf'\n",
    "fontprop = fm.FontProperties(fname=font_path, size=10)\n",
    "\n",
    "fig = plt.figure(figsize=(20,8))\n",
    "ax = fig.add_subplot()\n",
    "mu = df.mean()\n",
    "ax.axhline(mu,label='Mean')\n",
    "\n",
    "ax.bar(label, df)\n",
    "plt.xticks(label, fontproperties=fontprop)\n",
    "plt.title('지역구별 사고 건수', fontproperties=fontprop)"
   ]
  }
 ],
 "metadata": {
  "kernelspec": {
   "display_name": "Python 3",
   "language": "python",
   "name": "python3"
  }
 },
 "nbformat": 4,
 "nbformat_minor": 4
}
